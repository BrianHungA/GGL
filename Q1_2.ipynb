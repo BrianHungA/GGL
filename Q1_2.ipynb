{
 "cells": [
  {
   "cell_type": "code",
   "execution_count": 25,
   "metadata": {},
   "outputs": [],
   "source": [
    "import pandas as pd\n",
    "import numpy as np\n",
    "import pymysql as pm\n",
    "import sqlalchemy as sac\n",
    "from datetime import datetime, date, timedelta"
   ]
  },
  {
   "cell_type": "code",
   "execution_count": 158,
   "metadata": {},
   "outputs": [],
   "source": [
    "def dbParameter():\n",
    "    username = 'root'\n",
    "    password = 'root'\n",
    "    host = 'localhost'\n",
    "    port = '3306'\n",
    "    database = 'ggl'\n",
    "    engine = sac.create_engine(f'mysql+pymysql://{username}:{password}@{host}:{port}/{database}')\n",
    "    return engine\n",
    "\n",
    "def insertDataToMySql(df,mySqlEngine):\n",
    "    \"\"\"\n",
    "    purpose:insert df into mySql\n",
    "    df: pd.Dataframe\n",
    "    \n",
    "    \"\"\"\n",
    "    try:\n",
    "        df.to_sql('customer_report_time',con=mySqlEngine,if_exists='replace',index=False)\n",
    "    except Exception as e:\n",
    "        print(e)"
   ]
  },
  {
   "cell_type": "markdown",
   "metadata": {},
   "source": [
    "# Q1_1"
   ]
  },
  {
   "cell_type": "code",
   "execution_count": null,
   "metadata": {},
   "outputs": [],
   "source": [
    "raw_data = pd.read_csv('/Users/brianhung/Documents/Reseme/gogolook/d1_user_report_time.csv')\n",
    "mySqlEngine = dbParameter()\n",
    "insertDataToMySql(raw_data,mySqlEngine)"
   ]
  },
  {
   "cell_type": "markdown",
   "metadata": {},
   "source": [
    "# Q1-2"
   ]
  },
  {
   "cell_type": "code",
   "execution_count": 152,
   "metadata": {},
   "outputs": [
    {
     "name": "stdout",
     "output_type": "stream",
     "text": [
      "sql =  SELECT id,ts FROM customer_report_time AS crt WHERE crt.ts BETWEEN '2020-01-01' AND '2020-01-02'\n",
      "sql =  SELECT id,ts FROM customer_report_time AS crt WHERE crt.ts BETWEEN '2020-01-02' AND '2020-01-03'\n",
      "sql =  SELECT id,ts FROM customer_report_time AS crt WHERE crt.ts BETWEEN '2020-01-03' AND '2020-01-04'\n",
      "sql =  SELECT id,ts FROM customer_report_time AS crt WHERE crt.ts BETWEEN '2020-01-04' AND '2020-01-05'\n",
      "sql =  SELECT id,ts FROM customer_report_time AS crt WHERE crt.ts BETWEEN '2020-01-05' AND '2020-01-06'\n",
      "sql =  SELECT id,ts FROM customer_report_time AS crt WHERE crt.ts BETWEEN '2020-01-06' AND '2020-01-07'\n",
      "sql =  SELECT id,ts FROM customer_report_time AS crt WHERE crt.ts BETWEEN '2020-01-07' AND '2020-01-08'\n",
      "sql =  SELECT id,ts FROM customer_report_time AS crt WHERE crt.ts BETWEEN '2020-01-08' AND '2020-01-09'\n",
      "sql =  SELECT id,ts FROM customer_report_time AS crt WHERE crt.ts BETWEEN '2020-01-09' AND '2020-01-10'\n",
      "sql =  SELECT id,ts FROM customer_report_time AS crt WHERE crt.ts BETWEEN '2020-01-10' AND '2020-01-11'\n",
      "sql =  SELECT id,ts FROM customer_report_time AS crt WHERE crt.ts BETWEEN '2020-01-11' AND '2020-01-12'\n",
      "sql =  SELECT id,ts FROM customer_report_time AS crt WHERE crt.ts BETWEEN '2020-01-12' AND '2020-01-13'\n",
      "sql =  SELECT id,ts FROM customer_report_time AS crt WHERE crt.ts BETWEEN '2020-01-13' AND '2020-01-14'\n",
      "sql =  SELECT id,ts FROM customer_report_time AS crt WHERE crt.ts BETWEEN '2020-01-14' AND '2020-01-15'\n",
      "sql =  SELECT id,ts FROM customer_report_time AS crt WHERE crt.ts BETWEEN '2020-01-15' AND '2020-01-16'\n",
      "sql =  SELECT id,ts FROM customer_report_time AS crt WHERE crt.ts BETWEEN '2020-01-16' AND '2020-01-17'\n",
      "sql =  SELECT id,ts FROM customer_report_time AS crt WHERE crt.ts BETWEEN '2020-01-17' AND '2020-01-18'\n",
      "sql =  SELECT id,ts FROM customer_report_time AS crt WHERE crt.ts BETWEEN '2020-01-18' AND '2020-01-19'\n",
      "sql =  SELECT id,ts FROM customer_report_time AS crt WHERE crt.ts BETWEEN '2020-01-19' AND '2020-01-20'\n",
      "sql =  SELECT id,ts FROM customer_report_time AS crt WHERE crt.ts BETWEEN '2020-01-20' AND '2020-01-21'\n",
      "sql =  SELECT id,ts FROM customer_report_time AS crt WHERE crt.ts BETWEEN '2020-01-21' AND '2020-01-22'\n",
      "sql =  SELECT id,ts FROM customer_report_time AS crt WHERE crt.ts BETWEEN '2020-01-22' AND '2020-01-23'\n",
      "sql =  SELECT id,ts FROM customer_report_time AS crt WHERE crt.ts BETWEEN '2020-01-23' AND '2020-01-24'\n",
      "sql =  SELECT id,ts FROM customer_report_time AS crt WHERE crt.ts BETWEEN '2020-01-24' AND '2020-01-25'\n",
      "sql =  SELECT id,ts FROM customer_report_time AS crt WHERE crt.ts BETWEEN '2020-01-25' AND '2020-01-26'\n",
      "sql =  SELECT id,ts FROM customer_report_time AS crt WHERE crt.ts BETWEEN '2020-01-26' AND '2020-01-27'\n",
      "sql =  SELECT id,ts FROM customer_report_time AS crt WHERE crt.ts BETWEEN '2020-01-27' AND '2020-01-28'\n",
      "sql =  SELECT id,ts FROM customer_report_time AS crt WHERE crt.ts BETWEEN '2020-01-28' AND '2020-01-29'\n",
      "sql =  SELECT id,ts FROM customer_report_time AS crt WHERE crt.ts BETWEEN '2020-01-29' AND '2020-01-30'\n",
      "sql =  SELECT id,ts FROM customer_report_time AS crt WHERE crt.ts BETWEEN '2020-01-30' AND '2020-01-31'\n",
      "sql =  SELECT id,ts FROM customer_report_time AS crt WHERE crt.ts BETWEEN '2020-01-31' AND '2020-02-01'\n"
     ]
    }
   ],
   "source": [
    "\"\"\"\n",
    "一次取一天時間的資料，計算每天回報的使用者數量\n",
    "1. 找資料最早的時間\n",
    "2. 找資料找最晚的時間\n",
    "3. 計算每天回報的使用者數量\n",
    "\"\"\"\n",
    "# 找資料最早的時間\n",
    "sql_ear_datetime = 'SELECT ts FROM customer_report_time AS crt ORDER BY crt.ts ASC limit 1'\n",
    "ear_datetime = pd.read_sql_query(sql = sql_ear_datetime, con = mySqlEngine)\n",
    "ear_datetime = datetime.strptime(ear_datetime.loc[0,'ts'], '%Y-%m-%d %H:%M:%S.%f')\n",
    "ear_date = date(ear_datetime.year,ear_datetime.month,ear_datetime.day)\n",
    "\n",
    "# 找資料找最晚的時間\n",
    "sql_late_datetime = 'SELECT ts FROM customer_report_time AS crt ORDER BY crt.ts DESC limit 1'\n",
    "late_datetime = pd.read_sql_query(sql = sql_late_datetime, con = mySqlEngine)\n",
    "late_datetime = datetime.strptime(late_datetime.loc[0,'ts'], '%Y-%m-%d %H:%M:%S.%f')\n",
    "late_date = date(late_datetime.year,late_datetime.month,late_datetime.day)\n",
    "\n",
    "print(\"star_date = \", ear_date,\";end_date = \",late_date)\n",
    "result = pd.DataFrame(columns=['DATE','USER_NUMS'])\n",
    "st_date = \"\"\n",
    "mySqlEngine = dbParameter()\n",
    "# k = 0\n",
    "while True:\n",
    "    if st_date == \"\":\n",
    "        st_date = ear_date\n",
    "    else:\n",
    "        st_date = next_date\n",
    "    next_date = st_date + timedelta(1)\n",
    "    sql = \"SELECT id,ts FROM customer_report_time AS crt WHERE crt.ts BETWEEN '\"\\\n",
    "          + st_date.strftime(\"%Y-%m-%d\")\\\n",
    "          + \"' AND '\"\\\n",
    "          + next_date.strftime(\"%Y-%m-%d\")\\\n",
    "          + \"'\"\n",
    "    print(\"sql = \",sql)\n",
    "    df = pd.read_sql(sql=sql, con=mySqlEngine)\n",
    "    \n",
    "    nums = df.groupby('id').count()\n",
    "    result = result.append({'DATE':st_date, 'USER_NUMS':len(nums)},ignore_index=True)\n",
    "#     k += 1\n",
    "    if next_date > late_date:\n",
    "        break\n",
    "\n",
    "# 結果寫至檔案\n",
    "result.to_csv('/Users/brianhung/Documents/Reseme/gogolook/Q1_2.csv',index=False)"
   ]
  }
 ],
 "metadata": {
  "kernelspec": {
   "display_name": "Python 3",
   "language": "python",
   "name": "python3"
  },
  "language_info": {
   "codemirror_mode": {
    "name": "ipython",
    "version": 3
   },
   "file_extension": ".py",
   "mimetype": "text/x-python",
   "name": "python",
   "nbconvert_exporter": "python",
   "pygments_lexer": "ipython3",
   "version": "3.7.3"
  }
 },
 "nbformat": 4,
 "nbformat_minor": 4
}
